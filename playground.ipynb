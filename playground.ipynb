{
 "cells": [
  {
   "cell_type": "code",
   "execution_count": 2,
   "id": "initial_id",
   "metadata": {
    "collapsed": true,
    "ExecuteTime": {
     "end_time": "2024-09-15T21:41:37.082284Z",
     "start_time": "2024-09-15T21:41:36.951446Z"
    }
   },
   "outputs": [],
   "source": [
    "from dataset import read_training_data, read_evaluation_data, read_test_data\n",
    "\n",
    "training_data = read_training_data()\n",
    "evaluation_data = read_evaluation_data()\n",
    "test_data = read_test_data()"
   ]
  },
  {
   "cell_type": "code",
   "outputs": [],
   "source": [
    "from dataset import get_max_dims\n",
    "\n",
    "max_height, max_width = get_max_dims([training_data, evaluation_data, test_data])"
   ],
   "metadata": {
    "collapsed": false,
    "ExecuteTime": {
     "end_time": "2024-09-15T21:41:39.104781Z",
     "start_time": "2024-09-15T21:41:39.101699Z"
    }
   },
   "id": "2d05eeff5192893e",
   "execution_count": 4
  },
  {
   "cell_type": "code",
   "outputs": [
    {
     "data": {
      "text/plain": "(30, 30)"
     },
     "execution_count": 5,
     "metadata": {},
     "output_type": "execute_result"
    }
   ],
   "source": [
    "max_height, max_width"
   ],
   "metadata": {
    "collapsed": false,
    "ExecuteTime": {
     "end_time": "2024-09-15T21:41:45.164611Z",
     "start_time": "2024-09-15T21:41:45.162020Z"
    }
   },
   "id": "8dbd0df56480b70b",
   "execution_count": 5
  },
  {
   "cell_type": "code",
   "outputs": [],
   "source": [],
   "metadata": {
    "collapsed": false
   },
   "id": "6d0be72163d784b5"
  }
 ],
 "metadata": {
  "kernelspec": {
   "display_name": "Python 3",
   "language": "python",
   "name": "python3"
  },
  "language_info": {
   "codemirror_mode": {
    "name": "ipython",
    "version": 2
   },
   "file_extension": ".py",
   "mimetype": "text/x-python",
   "name": "python",
   "nbconvert_exporter": "python",
   "pygments_lexer": "ipython2",
   "version": "2.7.6"
  }
 },
 "nbformat": 4,
 "nbformat_minor": 5
}
